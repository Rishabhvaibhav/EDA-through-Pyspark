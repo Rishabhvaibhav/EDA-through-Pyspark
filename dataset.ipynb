{
 "cells": [
  {
   "cell_type": "code",
   "execution_count": 1,
   "metadata": {},
   "outputs": [],
   "source": [
    "from pyspark.sql import SparkSession\n",
    "\n",
    "spark = SparkSession.builder \\\n",
    "    .master(\"local\") \\\n",
    "    .appName(\"Flight_dataset\") \\\n",
    "    .getOrCreate()\n"
   ]
  },
  {
   "cell_type": "code",
   "execution_count": 2,
   "metadata": {},
   "outputs": [],
   "source": [
    "\n",
    "flights_df = spark.read.csv(\"flights.csv\")\n",
    "airlines_df = spark.read.csv(\"airlines.csv\")\n",
    "airports_df = spark.read.csv(\"airports.csv\")\n"
   ]
  },
  {
   "cell_type": "code",
   "execution_count": 3,
   "metadata": {},
   "outputs": [
    {
     "ename": "NameError",
     "evalue": "name 'flights_dataframe' is not defined",
     "output_type": "error",
     "traceback": [
      "\u001b[1;31m---------------------------------------------------------------------------\u001b[0m",
      "\u001b[1;31mNameError\u001b[0m                                 Traceback (most recent call last)",
      "Cell \u001b[1;32mIn[3], line 1\u001b[0m\n\u001b[1;32m----> 1\u001b[0m \u001b[43mflights_dataframe\u001b[49m\u001b[38;5;241m.\u001b[39mshow(\u001b[38;5;241m2\u001b[39m)\n\u001b[0;32m      2\u001b[0m airlines_df\u001b[38;5;241m.\u001b[39mshow(\u001b[38;5;241m2\u001b[39m)\n\u001b[0;32m      3\u001b[0m airports_df\u001b[38;5;241m.\u001b[39mshow(\u001b[38;5;241m2\u001b[39m)\n",
      "\u001b[1;31mNameError\u001b[0m: name 'flights_dataframe' is not defined"
     ]
    }
   ],
   "source": [
    "flights_dataframe.show(2)"
   ]
  },
  {
   "cell_type": "code",
   "execution_count": null,
   "metadata": {},
   "outputs": [],
   "source": [
    "flights_df = spark.read.option(\"header\",\"True\").csv(\"flights.csv\")\n",
    "\n"
   ]
  },
  {
   "cell_type": "code",
   "execution_count": null,
   "metadata": {},
   "outputs": [
    {
     "name": "stdout",
     "output_type": "stream",
     "text": [
      "+----+-----+---+-----------+-------+-------------+-----------+--------------+-------------------+-------------------+--------------+---------------+--------+----------+--------------+------------+--------+--------+---------+-------+-----------------+------------+-------------+--------+---------+-------------------+----------------+--------------+-------------+-------------------+-------------+\n",
      "|YEAR|MONTH|DAY|DAY_OF_WEEK|AIRLINE|FLIGHT_NUMBER|TAIL_NUMBER|ORIGIN_AIRPORT|DESTINATION_AIRPORT|SCHEDULED_DEPARTURE|DEPARTURE_TIME|DEPARTURE_DELAY|TAXI_OUT|WHEELS_OFF|SCHEDULED_TIME|ELAPSED_TIME|AIR_TIME|DISTANCE|WHEELS_ON|TAXI_IN|SCHEDULED_ARRIVAL|ARRIVAL_TIME|ARRIVAL_DELAY|DIVERTED|CANCELLED|CANCELLATION_REASON|AIR_SYSTEM_DELAY|SECURITY_DELAY|AIRLINE_DELAY|LATE_AIRCRAFT_DELAY|WEATHER_DELAY|\n",
      "+----+-----+---+-----------+-------+-------------+-----------+--------------+-------------------+-------------------+--------------+---------------+--------+----------+--------------+------------+--------+--------+---------+-------+-----------------+------------+-------------+--------+---------+-------------------+----------------+--------------+-------------+-------------------+-------------+\n",
      "|2015|1    |1  |4          |AS     |98           |N407AS     |ANC           |SEA                |0005               |2354          |-11            |21      |0015      |205           |194         |169     |1448    |0404     |4      |0430             |0408        |-22          |0       |0        |NULL               |NULL            |NULL          |NULL         |NULL               |NULL         |\n",
      "|2015|1    |1  |4          |AA     |2336         |N3KUAA     |LAX           |PBI                |0010               |0002          |-8             |12      |0014      |280           |279         |263     |2330    |0737     |4      |0750             |0741        |-9           |0       |0        |NULL               |NULL            |NULL          |NULL         |NULL               |NULL         |\n",
      "|2015|1    |1  |4          |US     |840          |N171US     |SFO           |CLT                |0020               |0018          |-2             |16      |0034      |286           |293         |266     |2296    |0800     |11     |0806             |0811        |5            |0       |0        |NULL               |NULL            |NULL          |NULL         |NULL               |NULL         |\n",
      "|2015|1    |1  |4          |AA     |258          |N3HYAA     |LAX           |MIA                |0020               |0015          |-5             |15      |0030      |285           |281         |258     |2342    |0748     |8      |0805             |0756        |-9           |0       |0        |NULL               |NULL            |NULL          |NULL         |NULL               |NULL         |\n",
      "|2015|1    |1  |4          |AS     |135          |N527AS     |SEA           |ANC                |0025               |0024          |-1             |11      |0035      |235           |215         |199     |1448    |0254     |5      |0320             |0259        |-21          |0       |0        |NULL               |NULL            |NULL          |NULL         |NULL               |NULL         |\n",
      "|2015|1    |1  |4          |DL     |806          |N3730B     |SFO           |MSP                |0025               |0020          |-5             |18      |0038      |217           |230         |206     |1589    |0604     |6      |0602             |0610        |8            |0       |0        |NULL               |NULL            |NULL          |NULL         |NULL               |NULL         |\n",
      "|2015|1    |1  |4          |NK     |612          |N635NK     |LAS           |MSP                |0025               |0019          |-6             |11      |0030      |181           |170         |154     |1299    |0504     |5      |0526             |0509        |-17          |0       |0        |NULL               |NULL            |NULL          |NULL         |NULL               |NULL         |\n",
      "|2015|1    |1  |4          |US     |2013         |N584UW     |LAX           |CLT                |0030               |0044          |14             |13      |0057      |273           |249         |228     |2125    |0745     |8      |0803             |0753        |-10          |0       |0        |NULL               |NULL            |NULL          |NULL         |NULL               |NULL         |\n",
      "|2015|1    |1  |4          |AA     |1112         |N3LAAA     |SFO           |DFW                |0030               |0019          |-11            |17      |0036      |195           |193         |173     |1464    |0529     |3      |0545             |0532        |-13          |0       |0        |NULL               |NULL            |NULL          |NULL         |NULL               |NULL         |\n",
      "|2015|1    |1  |4          |DL     |1173         |N826DN     |LAS           |ATL                |0030               |0033          |3              |12      |0045      |221           |203         |186     |1747    |0651     |5      |0711             |0656        |-15          |0       |0        |NULL               |NULL            |NULL          |NULL         |NULL               |NULL         |\n",
      "|2015|1    |1  |4          |DL     |2336         |N958DN     |DEN           |ATL                |0030               |0024          |-6             |12      |0036      |173           |149         |133     |1199    |0449     |4      |0523             |0453        |-30          |0       |0        |NULL               |NULL            |NULL          |NULL         |NULL               |NULL         |\n",
      "|2015|1    |1  |4          |AA     |1674         |N853AA     |LAS           |MIA                |0035               |0027          |-8             |21      |0048      |268           |266         |238     |2174    |0746     |7      |0803             |0753        |-10          |0       |0        |NULL               |NULL            |NULL          |NULL         |NULL               |NULL         |\n",
      "|2015|1    |1  |4          |DL     |1434         |N547US     |LAX           |MSP                |0035               |0035          |0              |18      |0053      |214           |210         |188     |1535    |0601     |4      |0609             |0605        |-4           |0       |0        |NULL               |NULL            |NULL          |NULL         |NULL               |NULL         |\n",
      "|2015|1    |1  |4          |DL     |2324         |N3751B     |SLC           |ATL                |0040               |0034          |-6             |18      |0052      |215           |199         |176     |1590    |0548     |5      |0615             |0553        |-22          |0       |0        |NULL               |NULL            |NULL          |NULL         |NULL               |NULL         |\n",
      "|2015|1    |1  |4          |DL     |2440         |N651DL     |SEA           |MSP                |0040               |0039          |-1             |28      |0107      |189           |198         |166     |1399    |0553     |4      |0549             |0557        |8            |0       |0        |NULL               |NULL            |NULL          |NULL         |NULL               |NULL         |\n",
      "|2015|1    |1  |4          |AS     |108          |N309AS     |ANC           |SEA                |0045               |0041          |-4             |17      |0058      |204           |194         |173     |1448    |0451     |4      |0509             |0455        |-14          |0       |0        |NULL               |NULL            |NULL          |NULL         |NULL               |NULL         |\n",
      "|2015|1    |1  |4          |DL     |1560         |N3743H     |ANC           |SEA                |0045               |0031          |-14            |25      |0056      |210           |200         |171     |1448    |0447     |4      |0515             |0451        |-24          |0       |0        |NULL               |NULL            |NULL          |NULL         |NULL               |NULL         |\n",
      "|2015|1    |1  |4          |UA     |1197         |N78448     |SFO           |IAH                |0048               |0042          |-6             |11      |0053      |218           |217         |199     |1635    |0612     |7      |0626             |0619        |-7           |0       |0        |NULL               |NULL            |NULL          |NULL         |NULL               |NULL         |\n",
      "|2015|1    |1  |4          |AS     |122          |N413AS     |ANC           |PDX                |0050               |0046          |-4             |11      |0057      |215           |201         |187     |1542    |0504     |3      |0525             |0507        |-18          |0       |0        |NULL               |NULL            |NULL          |NULL         |NULL               |NULL         |\n",
      "|2015|1    |1  |4          |DL     |1670         |N806DN     |PDX           |MSP                |0050               |0045          |-5             |9       |0054      |193           |186         |171     |1426    |0545     |6      |0603             |0551        |-12          |0       |0        |NULL               |NULL            |NULL          |NULL         |NULL               |NULL         |\n",
      "+----+-----+---+-----------+-------+-------------+-----------+--------------+-------------------+-------------------+--------------+---------------+--------+----------+--------------+------------+--------+--------+---------+-------+-----------------+------------+-------------+--------+---------+-------------------+----------------+--------------+-------------+-------------------+-------------+\n",
      "only showing top 20 rows\n",
      "\n",
      "root\n",
      " |-- YEAR: string (nullable = true)\n",
      " |-- MONTH: string (nullable = true)\n",
      " |-- DAY: string (nullable = true)\n",
      " |-- DAY_OF_WEEK: string (nullable = true)\n",
      " |-- AIRLINE: string (nullable = true)\n",
      " |-- FLIGHT_NUMBER: string (nullable = true)\n",
      " |-- TAIL_NUMBER: string (nullable = true)\n",
      " |-- ORIGIN_AIRPORT: string (nullable = true)\n",
      " |-- DESTINATION_AIRPORT: string (nullable = true)\n",
      " |-- SCHEDULED_DEPARTURE: string (nullable = true)\n",
      " |-- DEPARTURE_TIME: string (nullable = true)\n",
      " |-- DEPARTURE_DELAY: string (nullable = true)\n",
      " |-- TAXI_OUT: string (nullable = true)\n",
      " |-- WHEELS_OFF: string (nullable = true)\n",
      " |-- SCHEDULED_TIME: string (nullable = true)\n",
      " |-- ELAPSED_TIME: string (nullable = true)\n",
      " |-- AIR_TIME: string (nullable = true)\n",
      " |-- DISTANCE: string (nullable = true)\n",
      " |-- WHEELS_ON: string (nullable = true)\n",
      " |-- TAXI_IN: string (nullable = true)\n",
      " |-- SCHEDULED_ARRIVAL: string (nullable = true)\n",
      " |-- ARRIVAL_TIME: string (nullable = true)\n",
      " |-- ARRIVAL_DELAY: string (nullable = true)\n",
      " |-- DIVERTED: string (nullable = true)\n",
      " |-- CANCELLED: string (nullable = true)\n",
      " |-- CANCELLATION_REASON: string (nullable = true)\n",
      " |-- AIR_SYSTEM_DELAY: string (nullable = true)\n",
      " |-- SECURITY_DELAY: string (nullable = true)\n",
      " |-- AIRLINE_DELAY: string (nullable = true)\n",
      " |-- LATE_AIRCRAFT_DELAY: string (nullable = true)\n",
      " |-- WEATHER_DELAY: string (nullable = true)\n",
      "\n"
     ]
    }
   ],
   "source": [
    "flights_df.show(truncate=False)\n",
    "flights_df.printSchema()"
   ]
  },
  {
   "cell_type": "code",
   "execution_count": null,
   "metadata": {},
   "outputs": [
    {
     "name": "stdout",
     "output_type": "stream",
     "text": [
      "+---------+----------------------------+\n",
      "|IATA_CODE|AIRLINE                     |\n",
      "+---------+----------------------------+\n",
      "|UA       |United Air Lines Inc.       |\n",
      "|AA       |American Airlines Inc.      |\n",
      "|US       |US Airways Inc.             |\n",
      "|F9       |Frontier Airlines Inc.      |\n",
      "|B6       |JetBlue Airways             |\n",
      "|OO       |Skywest Airlines Inc.       |\n",
      "|AS       |Alaska Airlines Inc.        |\n",
      "|NK       |Spirit Air Lines            |\n",
      "|WN       |Southwest Airlines Co.      |\n",
      "|DL       |Delta Air Lines Inc.        |\n",
      "|EV       |Atlantic Southeast Airlines |\n",
      "|HA       |Hawaiian Airlines Inc.      |\n",
      "|MQ       |American Eagle Airlines Inc.|\n",
      "|VX       |Virgin America              |\n",
      "+---------+----------------------------+\n",
      "\n",
      "root\n",
      " |-- IATA_CODE: string (nullable = true)\n",
      " |-- AIRLINE: string (nullable = true)\n",
      "\n"
     ]
    }
   ],
   "source": []
  },
  {
   "cell_type": "code",
   "execution_count": null,
   "metadata": {},
   "outputs": [
    {
     "name": "stdout",
     "output_type": "stream",
     "text": [
      "+---------+-------------------------------------------+-------------+-----+-------+--------+----------+\n",
      "|IATA_CODE|AIRPORT                                    |CITY         |STATE|COUNTRY|LATITUDE|LONGITUDE |\n",
      "+---------+-------------------------------------------+-------------+-----+-------+--------+----------+\n",
      "|ABE      |Lehigh Valley International Airport        |Allentown    |PA   |USA    |40.65236|-75.44040 |\n",
      "|ABI      |Abilene Regional Airport                   |Abilene      |TX   |USA    |32.41132|-99.68190 |\n",
      "|ABQ      |Albuquerque International Sunport          |Albuquerque  |NM   |USA    |35.04022|-106.60919|\n",
      "|ABR      |Aberdeen Regional Airport                  |Aberdeen     |SD   |USA    |45.44906|-98.42183 |\n",
      "|ABY      |Southwest Georgia Regional Airport         |Albany       |GA   |USA    |31.53552|-84.19447 |\n",
      "|ACK      |Nantucket Memorial Airport                 |Nantucket    |MA   |USA    |41.25305|-70.06018 |\n",
      "|ACT      |Waco Regional Airport                      |Waco         |TX   |USA    |31.61129|-97.23052 |\n",
      "|ACV      |Arcata Airport                             |Arcata/Eureka|CA   |USA    |40.97812|-124.10862|\n",
      "|ACY      |Atlantic City International Airport        |Atlantic City|NJ   |USA    |39.45758|-74.57717 |\n",
      "|ADK      |Adak Airport                               |Adak         |AK   |USA    |51.87796|-176.64603|\n",
      "|ADQ      |Kodiak Airport                             |Kodiak       |AK   |USA    |57.74997|-152.49386|\n",
      "|AEX      |Alexandria International Airport           |Alexandria   |LA   |USA    |31.32737|-92.54856 |\n",
      "|AGS      |Augusta Regional Airport (Bush Field)      |Augusta      |GA   |USA    |33.36996|-81.96450 |\n",
      "|AKN      |King Salmon Airport                        |King Salmon  |AK   |USA    |58.67680|-156.64922|\n",
      "|ALB      |Albany International Airport               |Albany       |NY   |USA    |42.74812|-73.80298 |\n",
      "|ALO      |Waterloo Regional Airport                  |Waterloo     |IA   |USA    |42.55708|-92.40034 |\n",
      "|AMA      |Rick Husband Amarillo International Airport|Amarillo     |TX   |USA    |35.21937|-101.70593|\n",
      "|ANC      |Ted Stevens Anchorage International Airport|Anchorage    |AK   |USA    |61.17432|-149.99619|\n",
      "|APN      |Alpena County Regional Airport             |Alpena       |MI   |USA    |45.07807|-83.56029 |\n",
      "|ASE      |Aspen-Pitkin County Airport                |Aspen        |CO   |USA    |39.22316|-106.86885|\n",
      "+---------+-------------------------------------------+-------------+-----+-------+--------+----------+\n",
      "only showing top 20 rows\n",
      "\n",
      "root\n",
      " |-- IATA_CODE: string (nullable = true)\n",
      " |-- AIRPORT: string (nullable = true)\n",
      " |-- CITY: string (nullable = true)\n",
      " |-- STATE: string (nullable = true)\n",
      " |-- COUNTRY: string (nullable = true)\n",
      " |-- LATITUDE: string (nullable = true)\n",
      " |-- LONGITUDE: string (nullable = true)\n",
      "\n"
     ]
    }
   ],
   "source": [
    "airports_df.show(truncate=False)\n",
    "airports_df.printSchema()\n"
   ]
  },
  {
   "cell_type": "code",
   "execution_count": null,
   "metadata": {},
   "outputs": [
    {
     "name": "stdout",
     "output_type": "stream",
     "text": [
      "+----+-----+---+-----------+-------+-------------+-----------+--------------+-------------------+-------------------+--------------+---------------+--------+----------+--------------+------------+--------+--------+---------+-------+-----------------+------------+-------------+--------+---------+-------------------+----------------+--------------+-------------+-------------------+-------------+\n",
      "|YEAR|MONTH|DAY|DAY_OF_WEEK|AIRLINE|FLIGHT_NUMBER|TAIL_NUMBER|ORIGIN_AIRPORT|DESTINATION_AIRPORT|SCHEDULED_DEPARTURE|DEPARTURE_TIME|DEPARTURE_DELAY|TAXI_OUT|WHEELS_OFF|SCHEDULED_TIME|ELAPSED_TIME|AIR_TIME|DISTANCE|WHEELS_ON|TAXI_IN|SCHEDULED_ARRIVAL|ARRIVAL_TIME|ARRIVAL_DELAY|DIVERTED|CANCELLED|CANCELLATION_REASON|AIR_SYSTEM_DELAY|SECURITY_DELAY|AIRLINE_DELAY|LATE_AIRCRAFT_DELAY|WEATHER_DELAY|\n",
      "+----+-----+---+-----------+-------+-------------+-----------+--------------+-------------------+-------------------+--------------+---------------+--------+----------+--------------+------------+--------+--------+---------+-------+-----------------+------------+-------------+--------+---------+-------------------+----------------+--------------+-------------+-------------------+-------------+\n",
      "|2015|    1|  1|          4|     AS|           98|     N407AS|           ANC|                SEA|               0005|          2354|            -11|      21|      0015|           205|         194|     169|    1448|     0404|      4|             0430|        0408|          -22|       0|        0|               NULL|            NULL|          NULL|         NULL|               NULL|         NULL|\n",
      "|2015|    1|  1|          4|     AA|         2336|     N3KUAA|           LAX|                PBI|               0010|          0002|             -8|      12|      0014|           280|         279|     263|    2330|     0737|      4|             0750|        0741|           -9|       0|        0|               NULL|            NULL|          NULL|         NULL|               NULL|         NULL|\n",
      "+----+-----+---+-----------+-------+-------------+-----------+--------------+-------------------+-------------------+--------------+---------------+--------+----------+--------------+------------+--------+--------+---------+-------+-----------------+------------+-------------+--------+---------+-------------------+----------------+--------------+-------------+-------------------+-------------+\n",
      "only showing top 2 rows\n",
      "\n",
      "+---------+--------------------+\n",
      "|IATA_CODE|             AIRLINE|\n",
      "+---------+--------------------+\n",
      "|       UA|United Air Lines ...|\n",
      "|       AA|American Airlines...|\n",
      "+---------+--------------------+\n",
      "only showing top 2 rows\n",
      "\n",
      "+---------+--------------------+---------+-----+-------+--------+---------+\n",
      "|IATA_CODE|             AIRPORT|     CITY|STATE|COUNTRY|LATITUDE|LONGITUDE|\n",
      "+---------+--------------------+---------+-----+-------+--------+---------+\n",
      "|      ABE|Lehigh Valley Int...|Allentown|   PA|    USA|40.65236|-75.44040|\n",
      "|      ABI|Abilene Regional ...|  Abilene|   TX|    USA|32.41132|-99.68190|\n",
      "+---------+--------------------+---------+-----+-------+--------+---------+\n",
      "only showing top 2 rows\n",
      "\n"
     ]
    }
   ],
   "source": [
    "flights_df.show(2)\n",
    "airlines_df.show(2)\n",
    "airports_df.show(2)"
   ]
  },
  {
   "cell_type": "code",
   "execution_count": null,
   "metadata": {},
   "outputs": [
    {
     "data": {
      "text/plain": [
       "'\\n    1. Airline with minimum & maximum delay? \\n \\t2. How many flights get cancelled due to weather reason? \\n \\t3. Destination Airports most and least busy ?\\n \\t4. Destination with minimum & maximum departure delays ?\\n \\t5. Destination Airports most and least busy ?\\n \\t6. What are delay reasons? \\n \\t7. Airline with highest & lowest mean speed? \\n\\t8. Which airline should choose to fly on to avoid significant delay? Etc. \\n'"
      ]
     },
     "execution_count": 9,
     "metadata": {},
     "output_type": "execute_result"
    }
   ],
   "source": [
    "\"\"\"\n",
    "        1. Airline with minimum & maximum delay? \n",
    "     \t2. How many flights get cancelled due to weather reason? \n",
    "     \t3. Destination Airports most and least busy ?\n",
    "     \t4. Destination with minimum & maximum departure delays ?\n",
    "     \t5. Destination Airports most and least busy ?\n",
    "     \t6. What are delay reasons? \n",
    "     \t7. Airline with highest & lowest mean speed? \n",
    "    \t8. Which airline should choose to fly on to avoid significant delay? Etc. \n",
    "\"\"\"\n"
   ]
  },
  {
   "cell_type": "code",
   "execution_count": null,
   "metadata": {},
   "outputs": [
    {
     "name": "stdout",
     "output_type": "stream",
     "text": [
      "['YEAR', 'MONTH', 'DAY', 'DAY_OF_WEEK', 'AIRLINE', 'FLIGHT_NUMBER', 'TAIL_NUMBER', 'ORIGIN_AIRPORT', 'DESTINATION_AIRPORT', 'SCHEDULED_DEPARTURE', 'DEPARTURE_TIME', 'DEPARTURE_DELAY', 'TAXI_OUT', 'WHEELS_OFF', 'SCHEDULED_TIME', 'ELAPSED_TIME', 'AIR_TIME', 'DISTANCE', 'WHEELS_ON', 'TAXI_IN', 'SCHEDULED_ARRIVAL', 'ARRIVAL_TIME', 'ARRIVAL_DELAY', 'DIVERTED', 'CANCELLED', 'CANCELLATION_REASON', 'AIR_SYSTEM_DELAY', 'SECURITY_DELAY', 'AIRLINE_DELAY', 'LATE_AIRCRAFT_DELAY', 'WEATHER_DELAY']\n",
      "+----+-----+---+-----------+-------+-------------+-----------+--------------+-------------------+-------------------+--------------+---------------+--------+----------+--------------+------------+--------+--------+---------+-------+-----------------+------------+-------------+--------+---------+-------------------+----------------+--------------+-------------+-------------------+-------------+\n",
      "|YEAR|MONTH|DAY|DAY_OF_WEEK|AIRLINE|FLIGHT_NUMBER|TAIL_NUMBER|ORIGIN_AIRPORT|DESTINATION_AIRPORT|SCHEDULED_DEPARTURE|DEPARTURE_TIME|DEPARTURE_DELAY|TAXI_OUT|WHEELS_OFF|SCHEDULED_TIME|ELAPSED_TIME|AIR_TIME|DISTANCE|WHEELS_ON|TAXI_IN|SCHEDULED_ARRIVAL|ARRIVAL_TIME|ARRIVAL_DELAY|DIVERTED|CANCELLED|CANCELLATION_REASON|AIR_SYSTEM_DELAY|SECURITY_DELAY|AIRLINE_DELAY|LATE_AIRCRAFT_DELAY|WEATHER_DELAY|\n",
      "+----+-----+---+-----------+-------+-------------+-----------+--------------+-------------------+-------------------+--------------+---------------+--------+----------+--------------+------------+--------+--------+---------+-------+-----------------+------------+-------------+--------+---------+-------------------+----------------+--------------+-------------+-------------------+-------------+\n",
      "|2015|    1|  1|          4|     AS|           98|     N407AS|           ANC|                SEA|               0005|          2354|            -11|      21|      0015|           205|         194|     169|    1448|     0404|      4|             0430|        0408|          -22|       0|        0|               NULL|            NULL|          NULL|         NULL|               NULL|         NULL|\n",
      "|2015|    1|  1|          4|     AA|         2336|     N3KUAA|           LAX|                PBI|               0010|          0002|             -8|      12|      0014|           280|         279|     263|    2330|     0737|      4|             0750|        0741|           -9|       0|        0|               NULL|            NULL|          NULL|         NULL|               NULL|         NULL|\n",
      "|2015|    1|  1|          4|     US|          840|     N171US|           SFO|                CLT|               0020|          0018|             -2|      16|      0034|           286|         293|     266|    2296|     0800|     11|             0806|        0811|            5|       0|        0|               NULL|            NULL|          NULL|         NULL|               NULL|         NULL|\n",
      "|2015|    1|  1|          4|     AA|          258|     N3HYAA|           LAX|                MIA|               0020|          0015|             -5|      15|      0030|           285|         281|     258|    2342|     0748|      8|             0805|        0756|           -9|       0|        0|               NULL|            NULL|          NULL|         NULL|               NULL|         NULL|\n",
      "|2015|    1|  1|          4|     AS|          135|     N527AS|           SEA|                ANC|               0025|          0024|             -1|      11|      0035|           235|         215|     199|    1448|     0254|      5|             0320|        0259|          -21|       0|        0|               NULL|            NULL|          NULL|         NULL|               NULL|         NULL|\n",
      "+----+-----+---+-----------+-------+-------------+-----------+--------------+-------------------+-------------------+--------------+---------------+--------+----------+--------------+------------+--------+--------+---------+-------+-----------------+------------+-------------+--------+---------+-------------------+----------------+--------------+-------------+-------------------+-------------+\n",
      "only showing top 5 rows\n",
      "\n"
     ]
    }
   ],
   "source": [
    "print(flights_df.columns)\n",
    "flights_df.show(5)\n"
   ]
  },
  {
   "cell_type": "code",
   "execution_count": null,
   "metadata": {},
   "outputs": [],
   "source": [
    "from pyspark.sql.functions import *\n",
    "flights_df = flights_df.withColumn(\"DATE\", to_date(concat_ws('-', flights_df[\"YEAR\"], flights_df[\"MONTH\"], flights_df[\"DAY\"]), \"yyyy-MM-dd\"))\n",
    "flights_df = flights_df.drop(\"YEAR\", \"MONTH\", \"DAY\", \"DAY_OF_WEEK\")"
   ]
  },
  {
   "cell_type": "code",
   "execution_count": null,
   "metadata": {},
   "outputs": [
    {
     "name": "stdout",
     "output_type": "stream",
     "text": [
      "+-------+-------------+-----------+--------------+-------------------+-------------------+--------------+---------------+--------+----------+--------------+------------+--------+--------+---------+-------+-----------------+------------+-------------+--------+---------+-------------------+----------------+--------------+-------------+-------------------+-------------+----------+\n",
      "|AIRLINE|FLIGHT_NUMBER|TAIL_NUMBER|ORIGIN_AIRPORT|DESTINATION_AIRPORT|SCHEDULED_DEPARTURE|DEPARTURE_TIME|DEPARTURE_DELAY|TAXI_OUT|WHEELS_OFF|SCHEDULED_TIME|ELAPSED_TIME|AIR_TIME|DISTANCE|WHEELS_ON|TAXI_IN|SCHEDULED_ARRIVAL|ARRIVAL_TIME|ARRIVAL_DELAY|DIVERTED|CANCELLED|CANCELLATION_REASON|AIR_SYSTEM_DELAY|SECURITY_DELAY|AIRLINE_DELAY|LATE_AIRCRAFT_DELAY|WEATHER_DELAY|      DATE|\n",
      "+-------+-------------+-----------+--------------+-------------------+-------------------+--------------+---------------+--------+----------+--------------+------------+--------+--------+---------+-------+-----------------+------------+-------------+--------+---------+-------------------+----------------+--------------+-------------+-------------------+-------------+----------+\n",
      "|     AS|           98|     N407AS|           ANC|                SEA|               0005|          2354|            -11|      21|      0015|           205|         194|     169|    1448|     0404|      4|             0430|        0408|          -22|       0|        0|               NULL|            NULL|          NULL|         NULL|               NULL|         NULL|2015-01-01|\n",
      "|     AA|         2336|     N3KUAA|           LAX|                PBI|               0010|          0002|             -8|      12|      0014|           280|         279|     263|    2330|     0737|      4|             0750|        0741|           -9|       0|        0|               NULL|            NULL|          NULL|         NULL|               NULL|         NULL|2015-01-01|\n",
      "|     US|          840|     N171US|           SFO|                CLT|               0020|          0018|             -2|      16|      0034|           286|         293|     266|    2296|     0800|     11|             0806|        0811|            5|       0|        0|               NULL|            NULL|          NULL|         NULL|               NULL|         NULL|2015-01-01|\n",
      "|     AA|          258|     N3HYAA|           LAX|                MIA|               0020|          0015|             -5|      15|      0030|           285|         281|     258|    2342|     0748|      8|             0805|        0756|           -9|       0|        0|               NULL|            NULL|          NULL|         NULL|               NULL|         NULL|2015-01-01|\n",
      "|     AS|          135|     N527AS|           SEA|                ANC|               0025|          0024|             -1|      11|      0035|           235|         215|     199|    1448|     0254|      5|             0320|        0259|          -21|       0|        0|               NULL|            NULL|          NULL|         NULL|               NULL|         NULL|2015-01-01|\n",
      "+-------+-------------+-----------+--------------+-------------------+-------------------+--------------+---------------+--------+----------+--------------+------------+--------+--------+---------+-------+-----------------+------------+-------------+--------+---------+-------------------+----------------+--------------+-------------+-------------------+-------------+----------+\n",
      "only showing top 5 rows\n",
      "\n"
     ]
    }
   ],
   "source": [
    "spark.conf.set(\"spark.sql.legacy.timeParserPolicy\", \"LEGACY\")\n",
    "flights_df.show(5)\n",
    "\n",
    "\"\"\"For testing purpose \"\"\"\n",
    "\n",
    "dataframe = flights_df"
   ]
  },
  {
   "cell_type": "code",
   "execution_count": null,
   "metadata": {},
   "outputs": [],
   "source": []
  },
  {
   "cell_type": "code",
   "execution_count": null,
   "metadata": {},
   "outputs": [],
   "source": [
    "from pyspark.sql.functions import col\n",
    "\n",
    "flights_dataframe = dataframe.withColumn(\"DATE\", col(\"DATE\").cast(\"date\")) \\\n",
    "    .withColumn(\"AIRLINE\", col(\"AIRLINE\").cast(\"string\")) \\\n",
    "    .withColumn(\"FLIGHT_NUMBER\", col(\"FLIGHT_NUMBER\").cast(\"int\")) \\\n",
    "    .withColumn(\"TAIL_NUMBER\", col(\"TAIL_NUMBER\").cast(\"string\")) \\\n",
    "    .withColumn(\"ORIGIN_AIRPORT\", col(\"ORIGIN_AIRPORT\").cast(\"string\")) \\\n",
    "    .withColumn(\"DESTINATION_AIRPORT\", col(\"DESTINATION_AIRPORT\").cast(\"string\")) \\\n",
    "    .withColumn(\"SCHEDULED_DEPARTURE\", col(\"SCHEDULED_DEPARTURE\").cast(\"int\")) \\\n",
    "    .withColumn(\"DEPARTURE_TIME\", col(\"DEPARTURE_TIME\").cast(\"time\")) \\\n",
    "    .withColumn(\"DEPARTURE_DELAY\", col(\"DEPARTURE_DELAY\").cast(\"time\")) \\\n",
    "    .withColumn(\"TAXI_OUT\", col(\"TAXI_OUT\").cast(\"int\")) \\\n",
    "    .withColumn(\"WHEELS_OFF\", col(\"WHEELS_OFF\").cast(\"int\")) \\\n",
    "    .withColumn(\"SCHEDULED_TIME\", col(\"SCHEDULED_TIME\").cast(\"int\")) \\\n",
    "    .withColumn(\"ELAPSED_TIME\", col(\"ELAPSED_TIME\").cast(\"int\")) \\\n",
    "    .withColumn(\"AIR_TIME\", col(\"AIR_TIME\").cast(\"int\")) \\\n",
    "    .withColumn(\"DISTANCE\", col(\"DISTANCE\").cast(\"int\")) \\\n",
    "    .withColumn(\"WHEELS_ON\", col(\"WHEELS_ON\").cast(\"int\")) \\\n",
    "    .withColumn(\"TAXI_IN\", col(\"TAXI_IN\").cast(\"int\")) \\\n",
    "    .withColumn(\"SCHEDULED_ARRIVAL\", col(\"SCHEDULED_ARRIVAL\").cast(\"int\")) \\\n",
    "    .withColumn(\"ARRIVAL_TIME\", col(\"ARRIVAL_TIME\").cast(\"int\")) \\\n",
    "    .withColumn(\"ARRIVAL_DELAY\", col(\"ARRIVAL_DELAY\").cast(\"int\")) \\\n",
    "    .withColumn(\"DIVERTED\", col(\"DIVERTED\").cast(\"int\")) \\\n",
    "    .withColumn(\"CANCELLED\", col(\"CANCELLED\").cast(\"int\")) \\\n",
    "    .withColumn(\"CANCELLATION_REASON\", col(\"CANCELLATION_REASON\").cast(\"int\")) \\\n",
    "    .withColumn(\"AIR_SYSTEM_DELAY\", col(\"AIR_SYSTEM_DELAY\").cast(\"int\")) \\\n",
    "    .withColumn(\"SECURITY_DELAY\", col(\"SECURITY_DELAY\").cast(\"int\")) \\\n",
    "    .withColumn(\"AIRLINE_DELAY\", col(\"AIRLINE_DELAY\").cast(\"int\")) \\\n",
    "    .withColumn(\"LATE_AIRCRAFT_DELAY\", col(\"LATE_AIRCRAFT_DELAY\").cast(\"int\")) \\\n",
    "    .withColumn(\"WEATHER_DELAY\", col(\"WEATHER_DELAY\").cast(\"int\"))\n"
   ]
  },
  {
   "cell_type": "code",
   "execution_count": null,
   "metadata": {},
   "outputs": [
    {
     "name": "stdout",
     "output_type": "stream",
     "text": [
      "+-------+-------------+-----------+--------------+-------------------+-------------------+--------------+---------------+--------+----------+--------------+------------+--------+--------+---------+-------+-----------------+------------+-------------+--------+---------+-------------------+----------------+--------------+-------------+-------------------+-------------+----------+\n",
      "|AIRLINE|FLIGHT_NUMBER|TAIL_NUMBER|ORIGIN_AIRPORT|DESTINATION_AIRPORT|SCHEDULED_DEPARTURE|DEPARTURE_TIME|DEPARTURE_DELAY|TAXI_OUT|WHEELS_OFF|SCHEDULED_TIME|ELAPSED_TIME|AIR_TIME|DISTANCE|WHEELS_ON|TAXI_IN|SCHEDULED_ARRIVAL|ARRIVAL_TIME|ARRIVAL_DELAY|DIVERTED|CANCELLED|CANCELLATION_REASON|AIR_SYSTEM_DELAY|SECURITY_DELAY|AIRLINE_DELAY|LATE_AIRCRAFT_DELAY|WEATHER_DELAY|      DATE|\n",
      "+-------+-------------+-----------+--------------+-------------------+-------------------+--------------+---------------+--------+----------+--------------+------------+--------+--------+---------+-------+-----------------+------------+-------------+--------+---------+-------------------+----------------+--------------+-------------+-------------------+-------------+----------+\n",
      "|     AS|           98|     N407AS|           ANC|                SEA|                  5|          2354|            -11|      21|        15|           205|         194|     169|    1448|      404|      4|              430|         408|          -22|       0|        0|               NULL|            NULL|          NULL|         NULL|               NULL|         NULL|2015-01-01|\n",
      "|     AA|         2336|     N3KUAA|           LAX|                PBI|                 10|             2|             -8|      12|        14|           280|         279|     263|    2330|      737|      4|              750|         741|           -9|       0|        0|               NULL|            NULL|          NULL|         NULL|               NULL|         NULL|2015-01-01|\n",
      "|     US|          840|     N171US|           SFO|                CLT|                 20|            18|             -2|      16|        34|           286|         293|     266|    2296|      800|     11|              806|         811|            5|       0|        0|               NULL|            NULL|          NULL|         NULL|               NULL|         NULL|2015-01-01|\n",
      "|     AA|          258|     N3HYAA|           LAX|                MIA|                 20|            15|             -5|      15|        30|           285|         281|     258|    2342|      748|      8|              805|         756|           -9|       0|        0|               NULL|            NULL|          NULL|         NULL|               NULL|         NULL|2015-01-01|\n",
      "|     AS|          135|     N527AS|           SEA|                ANC|                 25|            24|             -1|      11|        35|           235|         215|     199|    1448|      254|      5|              320|         259|          -21|       0|        0|               NULL|            NULL|          NULL|         NULL|               NULL|         NULL|2015-01-01|\n",
      "+-------+-------------+-----------+--------------+-------------------+-------------------+--------------+---------------+--------+----------+--------------+------------+--------+--------+---------+-------+-----------------+------------+-------------+--------+---------+-------------------+----------------+--------------+-------------+-------------------+-------------+----------+\n",
      "only showing top 5 rows\n",
      "\n"
     ]
    }
   ],
   "source": [
    "flights_dataframe.show(5)\n"
   ]
  },
  {
   "cell_type": "code",
   "execution_count": null,
   "metadata": {},
   "outputs": [
    {
     "name": "stdout",
     "output_type": "stream",
     "text": [
      "+-------------------+--------------+\n",
      "|SCHEDULED_DEPARTURE|DEPARTURE_TIME|\n",
      "+-------------------+--------------+\n",
      "|               0005|          2354|\n",
      "|               0010|          0002|\n",
      "|               0020|          0018|\n",
      "|               0020|          0015|\n",
      "|               0025|          0024|\n",
      "+-------------------+--------------+\n",
      "only showing top 5 rows\n",
      "\n"
     ]
    }
   ],
   "source": [
    "# Assuming you have a DataFrame called df with columns \"column1\", \"column2\", and \"column3\"\n",
    "# Select and show specific three columns\n",
    "dataframe.select(\"SCHEDULED_DEPARTURE\", \"DEPARTURE_TIME\").show(5)\n"
   ]
  },
  {
   "cell_type": "code",
   "execution_count": null,
   "metadata": {},
   "outputs": [
    {
     "name": "stdout",
     "output_type": "stream",
     "text": [
      "+-------+-------------+-----------+--------------+-------------------+-------------------+--------------+---------------+--------+----------+--------------+------------+--------+--------+---------+-------+-----------------+------------+-------------+--------+---------+-------------------+----------------+--------------+-------------+-------------------+-------------+----------+\n",
      "|AIRLINE|FLIGHT_NUMBER|TAIL_NUMBER|ORIGIN_AIRPORT|DESTINATION_AIRPORT|SCHEDULED_DEPARTURE|DEPARTURE_TIME|DEPARTURE_DELAY|TAXI_OUT|WHEELS_OFF|SCHEDULED_TIME|ELAPSED_TIME|AIR_TIME|DISTANCE|WHEELS_ON|TAXI_IN|SCHEDULED_ARRIVAL|ARRIVAL_TIME|ARRIVAL_DELAY|DIVERTED|CANCELLED|CANCELLATION_REASON|AIR_SYSTEM_DELAY|SECURITY_DELAY|AIRLINE_DELAY|LATE_AIRCRAFT_DELAY|WEATHER_DELAY|      DATE|\n",
      "+-------+-------------+-----------+--------------+-------------------+-------------------+--------------+---------------+--------+----------+--------------+------------+--------+--------+---------+-------+-----------------+------------+-------------+--------+---------+-------------------+----------------+--------------+-------------+-------------------+-------------+----------+\n",
      "|     AS|           98|     N407AS|           ANC|                SEA|              05:35|         20:44|            -11|      21|      0015|           205|         194|     169|    1448|     0404|      4|             0430|        0408|          -22|       0|        0|               NULL|            NULL|          NULL|         NULL|               NULL|         NULL|2015-01-01|\n",
      "|     AA|         2336|     N3KUAA|           LAX|                PBI|              05:40|         05:32|             -8|      12|      0014|           280|         279|     263|    2330|     0737|      4|             0750|        0741|           -9|       0|        0|               NULL|            NULL|          NULL|         NULL|               NULL|         NULL|2015-01-01|\n",
      "|     US|          840|     N171US|           SFO|                CLT|              05:50|         05:48|             -2|      16|      0034|           286|         293|     266|    2296|     0800|     11|             0806|        0811|            5|       0|        0|               NULL|            NULL|          NULL|         NULL|               NULL|         NULL|2015-01-01|\n",
      "|     AA|          258|     N3HYAA|           LAX|                MIA|              05:50|         05:45|             -5|      15|      0030|           285|         281|     258|    2342|     0748|      8|             0805|        0756|           -9|       0|        0|               NULL|            NULL|          NULL|         NULL|               NULL|         NULL|2015-01-01|\n",
      "|     AS|          135|     N527AS|           SEA|                ANC|              05:55|         05:54|             -1|      11|      0035|           235|         215|     199|    1448|     0254|      5|             0320|        0259|          -21|       0|        0|               NULL|            NULL|          NULL|         NULL|               NULL|         NULL|2015-01-01|\n",
      "|     DL|          806|     N3730B|           SFO|                MSP|              05:55|         05:50|             -5|      18|      0038|           217|         230|     206|    1589|     0604|      6|             0602|        0610|            8|       0|        0|               NULL|            NULL|          NULL|         NULL|               NULL|         NULL|2015-01-01|\n",
      "|     NK|          612|     N635NK|           LAS|                MSP|              05:55|         05:49|             -6|      11|      0030|           181|         170|     154|    1299|     0504|      5|             0526|        0509|          -17|       0|        0|               NULL|            NULL|          NULL|         NULL|               NULL|         NULL|2015-01-01|\n",
      "|     US|         2013|     N584UW|           LAX|                CLT|              06:00|         06:14|             14|      13|      0057|           273|         249|     228|    2125|     0745|      8|             0803|        0753|          -10|       0|        0|               NULL|            NULL|          NULL|         NULL|               NULL|         NULL|2015-01-01|\n",
      "|     AA|         1112|     N3LAAA|           SFO|                DFW|              06:00|         05:49|            -11|      17|      0036|           195|         193|     173|    1464|     0529|      3|             0545|        0532|          -13|       0|        0|               NULL|            NULL|          NULL|         NULL|               NULL|         NULL|2015-01-01|\n",
      "|     DL|         1173|     N826DN|           LAS|                ATL|              06:00|         06:03|              3|      12|      0045|           221|         203|     186|    1747|     0651|      5|             0711|        0656|          -15|       0|        0|               NULL|            NULL|          NULL|         NULL|               NULL|         NULL|2015-01-01|\n",
      "|     DL|         2336|     N958DN|           DEN|                ATL|              06:00|         05:54|             -6|      12|      0036|           173|         149|     133|    1199|     0449|      4|             0523|        0453|          -30|       0|        0|               NULL|            NULL|          NULL|         NULL|               NULL|         NULL|2015-01-01|\n",
      "|     AA|         1674|     N853AA|           LAS|                MIA|              06:05|         05:57|             -8|      21|      0048|           268|         266|     238|    2174|     0746|      7|             0803|        0753|          -10|       0|        0|               NULL|            NULL|          NULL|         NULL|               NULL|         NULL|2015-01-01|\n",
      "|     DL|         1434|     N547US|           LAX|                MSP|              06:05|         06:05|              0|      18|      0053|           214|         210|     188|    1535|     0601|      4|             0609|        0605|           -4|       0|        0|               NULL|            NULL|          NULL|         NULL|               NULL|         NULL|2015-01-01|\n",
      "|     DL|         2324|     N3751B|           SLC|                ATL|              06:10|         06:04|             -6|      18|      0052|           215|         199|     176|    1590|     0548|      5|             0615|        0553|          -22|       0|        0|               NULL|            NULL|          NULL|         NULL|               NULL|         NULL|2015-01-01|\n",
      "|     DL|         2440|     N651DL|           SEA|                MSP|              06:10|         06:09|             -1|      28|      0107|           189|         198|     166|    1399|     0553|      4|             0549|        0557|            8|       0|        0|               NULL|            NULL|          NULL|         NULL|               NULL|         NULL|2015-01-01|\n",
      "|     AS|          108|     N309AS|           ANC|                SEA|              06:15|         06:11|             -4|      17|      0058|           204|         194|     173|    1448|     0451|      4|             0509|        0455|          -14|       0|        0|               NULL|            NULL|          NULL|         NULL|               NULL|         NULL|2015-01-01|\n",
      "|     DL|         1560|     N3743H|           ANC|                SEA|              06:15|         06:01|            -14|      25|      0056|           210|         200|     171|    1448|     0447|      4|             0515|        0451|          -24|       0|        0|               NULL|            NULL|          NULL|         NULL|               NULL|         NULL|2015-01-01|\n",
      "|     UA|         1197|     N78448|           SFO|                IAH|              06:18|         06:12|             -6|      11|      0053|           218|         217|     199|    1635|     0612|      7|             0626|        0619|           -7|       0|        0|               NULL|            NULL|          NULL|         NULL|               NULL|         NULL|2015-01-01|\n",
      "|     AS|          122|     N413AS|           ANC|                PDX|              06:20|         06:16|             -4|      11|      0057|           215|         201|     187|    1542|     0504|      3|             0525|        0507|          -18|       0|        0|               NULL|            NULL|          NULL|         NULL|               NULL|         NULL|2015-01-01|\n",
      "|     DL|         1670|     N806DN|           PDX|                MSP|              06:20|         06:15|             -5|       9|      0054|           193|         186|     171|    1426|     0545|      6|             0603|        0551|          -12|       0|        0|               NULL|            NULL|          NULL|         NULL|               NULL|         NULL|2015-01-01|\n",
      "+-------+-------------+-----------+--------------+-------------------+-------------------+--------------+---------------+--------+----------+--------------+------------+--------+--------+---------+-------+-----------------+------------+-------------+--------+---------+-------------------+----------------+--------------+-------------+-------------------+-------------+----------+\n",
      "only showing top 20 rows\n",
      "\n"
     ]
    }
   ],
   "source": [
    "from pyspark.sql import SparkSession\n",
    "from pyspark.sql.functions import from_unixtime\n",
    "\n",
    "# Create a Spark session\n",
    "spark = SparkSession.builder.appName(\"time-format-example\").getOrCreate()\n",
    "\n",
    "# Assuming you have a DataFrame called df with columns \"SCHEDULED_DEPARTURE\" and \"DEPARTURE_TIME\"\n",
    "\n",
    "# Convert the columns to HH:MM format\n",
    "df = dataframe.withColumn(\"SCHEDULED_DEPARTURE\", from_unixtime(dataframe[\"SCHEDULED_DEPARTURE\"] * 60, \"HH:mm\"))\n",
    "df = df.withColumn(\"DEPARTURE_TIME\", from_unixtime(df[\"DEPARTURE_TIME\"]  60, \"HH:mm\"))\n",
    "\n",
    "# Show the updated DataFrame\n",
    "df.show()\n"
   ]
  },
  {
   "cell_type": "code",
   "execution_count": null,
   "metadata": {},
   "outputs": [],
   "source": []
  },
  {
   "cell_type": "code",
   "execution_count": null,
   "metadata": {},
   "outputs": [],
   "source": [
    "\n"
   ]
  },
  {
   "cell_type": "code",
   "execution_count": null,
   "metadata": {},
   "outputs": [
    {
     "ename": "NameError",
     "evalue": "name 'df' is not defined",
     "output_type": "error",
     "traceback": [
      "\u001b[1;31m---------------------------------------------------------------------------\u001b[0m",
      "\u001b[1;31mNameError\u001b[0m                                 Traceback (most recent call last)",
      "Cell \u001b[1;32mIn[15], line 1\u001b[0m\n\u001b[1;32m----> 1\u001b[0m \u001b[43mdf\u001b[49m\u001b[38;5;241m.\u001b[39mshow(\u001b[38;5;241m2\u001b[39m)\n",
      "\u001b[1;31mNameError\u001b[0m: name 'df' is not defined"
     ]
    }
   ],
   "source": [
    "df.show(2)"
   ]
  },
  {
   "cell_type": "code",
   "execution_count": null,
   "metadata": {},
   "outputs": [
    {
     "name": "stdout",
     "output_type": "stream",
     "text": [
      "+----+-----+---+-----------+-------+-------------+-----------+--------------+-------------------+-------------------+--------------+---------------+--------+----------+--------------+------------+--------+--------+---------+-------+-----------------+------------+-------------+--------+---------+-------------------+----------------+--------------+-------------+-------------------+-------------+\n",
      "|YEAR|MONTH|DAY|DAY_OF_WEEK|AIRLINE|FLIGHT_NUMBER|TAIL_NUMBER|ORIGIN_AIRPORT|DESTINATION_AIRPORT|SCHEDULED_DEPARTURE|DEPARTURE_TIME|DEPARTURE_DELAY|TAXI_OUT|WHEELS_OFF|SCHEDULED_TIME|ELAPSED_TIME|AIR_TIME|DISTANCE|WHEELS_ON|TAXI_IN|SCHEDULED_ARRIVAL|ARRIVAL_TIME|ARRIVAL_DELAY|DIVERTED|CANCELLED|CANCELLATION_REASON|AIR_SYSTEM_DELAY|SECURITY_DELAY|AIRLINE_DELAY|LATE_AIRCRAFT_DELAY|WEATHER_DELAY|\n",
      "+----+-----+---+-----------+-------+-------------+-----------+--------------+-------------------+-------------------+--------------+---------------+--------+----------+--------------+------------+--------+--------+---------+-------+-----------------+------------+-------------+--------+---------+-------------------+----------------+--------------+-------------+-------------------+-------------+\n",
      "|2015|    1|  1|          4|     AS|           98|     N407AS|           ANC|                SEA|              00:05|          2354|            -11|      21|      0015|           205|         194|     169|    1448|     0404|      4|             0430|        0408|          -22|       0|        0|               NULL|            NULL|          NULL|         NULL|               NULL|         NULL|\n",
      "+----+-----+---+-----------+-------+-------------+-----------+--------------+-------------------+-------------------+--------------+---------------+--------+----------+--------------+------------+--------+--------+---------+-------+-----------------+------------+-------------+--------+---------+-------------------+----------------+--------------+-------------+-------------------+-------------+\n",
      "only showing top 1 row\n",
      "\n"
     ]
    }
   ],
   "source": []
  },
  {
   "cell_type": "code",
   "execution_count": null,
   "metadata": {},
   "outputs": [
    {
     "name": "stdout",
     "output_type": "stream",
     "text": [
      "+----+-----+---+-----------+-------+-------------+-----------+--------------+-------------------+-------------------+--------------+---------------+--------+----------+--------------+------------+--------+--------+---------+-------+-----------------+------------+-------------+--------+---------+-------------------+----------------+--------------+-------------+-------------------+-------------+\n",
      "|YEAR|MONTH|DAY|DAY_OF_WEEK|AIRLINE|FLIGHT_NUMBER|TAIL_NUMBER|ORIGIN_AIRPORT|DESTINATION_AIRPORT|SCHEDULED_DEPARTURE|DEPARTURE_TIME|DEPARTURE_DELAY|TAXI_OUT|WHEELS_OFF|SCHEDULED_TIME|ELAPSED_TIME|AIR_TIME|DISTANCE|WHEELS_ON|TAXI_IN|SCHEDULED_ARRIVAL|ARRIVAL_TIME|ARRIVAL_DELAY|DIVERTED|CANCELLED|CANCELLATION_REASON|AIR_SYSTEM_DELAY|SECURITY_DELAY|AIRLINE_DELAY|LATE_AIRCRAFT_DELAY|WEATHER_DELAY|\n",
      "+----+-----+---+-----------+-------+-------------+-----------+--------------+-------------------+-------------------+--------------+---------------+--------+----------+--------------+------------+--------+--------+---------+-------+-----------------+------------+-------------+--------+---------+-------------------+----------------+--------------+-------------+-------------------+-------------+\n",
      "|2015|    1|  1|          4|     AS|           98|     N407AS|           ANC|                SEA|               0005|         23:54|            -11|      21|      0015|           205|         194|     169|    1448|     0404|      4|             0430|        0408|          -22|       0|        0|               NULL|            NULL|          NULL|         NULL|               NULL|         NULL|\n",
      "+----+-----+---+-----------+-------+-------------+-----------+--------------+-------------------+-------------------+--------------+---------------+--------+----------+--------------+------------+--------+--------+---------+-------+-----------------+------------+-------------+--------+---------+-------------------+----------------+--------------+-------------+-------------------+-------------+\n",
      "only showing top 1 row\n",
      "\n"
     ]
    }
   ],
   "source": []
  },
  {
   "cell_type": "code",
   "execution_count": null,
   "metadata": {},
   "outputs": [
    {
     "name": "stdout",
     "output_type": "stream",
     "text": [
      "+-------+-------------+-----------+--------------+-------------------+-------------------+--------------+---------------+--------+----------+--------------+------------+--------+--------+---------+-------+-----------------+------------+-------------+--------+---------+-------------------+----------------+--------------+-------------+-------------------+-------------+----------+\n",
      "|AIRLINE|FLIGHT_NUMBER|TAIL_NUMBER|ORIGIN_AIRPORT|DESTINATION_AIRPORT|SCHEDULED_DEPARTURE|DEPARTURE_TIME|DEPARTURE_DELAY|TAXI_OUT|WHEELS_OFF|SCHEDULED_TIME|ELAPSED_TIME|AIR_TIME|DISTANCE|WHEELS_ON|TAXI_IN|SCHEDULED_ARRIVAL|ARRIVAL_TIME|ARRIVAL_DELAY|DIVERTED|CANCELLED|CANCELLATION_REASON|AIR_SYSTEM_DELAY|SECURITY_DELAY|AIRLINE_DELAY|LATE_AIRCRAFT_DELAY|WEATHER_DELAY|      DATE|\n",
      "+-------+-------------+-----------+--------------+-------------------+-------------------+--------------+---------------+--------+----------+--------------+------------+--------+--------+---------+-------+-----------------+------------+-------------+--------+---------+-------------------+----------------+--------------+-------------+-------------------+-------------+----------+\n",
      "|     AS|           98|     N407AS|           ANC|                SEA|                  5|          2354|            -11|      21|        15|           205|         194|     169|    1448|      404|      4|              430|         408|          -22|       0|        0|               NULL|            NULL|          NULL|         NULL|               NULL|         NULL|2015-01-01|\n",
      "|     AA|         2336|     N3KUAA|           LAX|                PBI|                 10|             2|             -8|      12|        14|           280|         279|     263|    2330|      737|      4|              750|         741|           -9|       0|        0|               NULL|            NULL|          NULL|         NULL|               NULL|         NULL|2015-01-01|\n",
      "+-------+-------------+-----------+--------------+-------------------+-------------------+--------------+---------------+--------+----------+--------------+------------+--------+--------+---------+-------+-----------------+------------+-------------+--------+---------+-------------------+----------------+--------------+-------------+-------------------+-------------+----------+\n",
      "only showing top 2 rows\n",
      "\n"
     ]
    }
   ],
   "source": []
  },
  {
   "cell_type": "code",
   "execution_count": null,
   "metadata": {},
   "outputs": [],
   "source": []
  },
  {
   "cell_type": "code",
   "execution_count": null,
   "metadata": {},
   "outputs": [],
   "source": []
  },
  {
   "cell_type": "code",
   "execution_count": null,
   "metadata": {},
   "outputs": [],
   "source": []
  },
  {
   "cell_type": "code",
   "execution_count": null,
   "metadata": {},
   "outputs": [
    {
     "name": "stdout",
     "output_type": "stream",
     "text": [
      "+-------+-------------+-----------+--------------+-------------------+-------------------+--------------+---------------+--------+----------+--------------+------------+--------+--------+---------+-------+-----------------+------------+-------------+--------+---------+-------------------+----------------+--------------+-------------+-------------------+-------------+----------+\n",
      "|AIRLINE|FLIGHT_NUMBER|TAIL_NUMBER|ORIGIN_AIRPORT|DESTINATION_AIRPORT|SCHEDULED_DEPARTURE|DEPARTURE_TIME|DEPARTURE_DELAY|TAXI_OUT|WHEELS_OFF|SCHEDULED_TIME|ELAPSED_TIME|AIR_TIME|DISTANCE|WHEELS_ON|TAXI_IN|SCHEDULED_ARRIVAL|ARRIVAL_TIME|ARRIVAL_DELAY|DIVERTED|CANCELLED|CANCELLATION_REASON|AIR_SYSTEM_DELAY|SECURITY_DELAY|AIRLINE_DELAY|LATE_AIRCRAFT_DELAY|WEATHER_DELAY|      DATE|\n",
      "+-------+-------------+-----------+--------------+-------------------+-------------------+--------------+---------------+--------+----------+--------------+------------+--------+--------+---------+-------+-----------------+------------+-------------+--------+---------+-------------------+----------------+--------------+-------------+-------------------+-------------+----------+\n",
      "|     AS|           98|     N407AS|           ANC|                SEA|               NULL|         23:54|            -11|      21|        15|           205|         194|     169|    1448|      404|      4|              430|         408|          -22|       0|        0|               NULL|            NULL|          NULL|         NULL|               NULL|         NULL|2015-01-01|\n",
      "|     AA|         2336|     N3KUAA|           LAX|                PBI|               NULL|          NULL|             -8|      12|        14|           280|         279|     263|    2330|      737|      4|              750|         741|           -9|       0|        0|               NULL|            NULL|          NULL|         NULL|               NULL|         NULL|2015-01-01|\n",
      "+-------+-------------+-----------+--------------+-------------------+-------------------+--------------+---------------+--------+----------+--------------+------------+--------+--------+---------+-------+-----------------+------------+-------------+--------+---------+-------------------+----------------+--------------+-------------+-------------------+-------------+----------+\n",
      "only showing top 2 rows\n",
      "\n"
     ]
    }
   ],
   "source": []
  },
  {
   "cell_type": "code",
   "execution_count": null,
   "metadata": {},
   "outputs": [],
   "source": []
  },
  {
   "cell_type": "code",
   "execution_count": null,
   "metadata": {},
   "outputs": [
    {
     "name": "stdout",
     "output_type": "stream",
     "text": [
      "+-------+-------------+-----------+--------------+-------------------+-------------------+--------------+---------------+--------+----------+--------------+------------+--------+--------+---------+-------+-----------------+------------+-------------+--------+---------+-------------------+----------------+--------------+-------------+-------------------+-------------+----------+\n",
      "|AIRLINE|FLIGHT_NUMBER|TAIL_NUMBER|ORIGIN_AIRPORT|DESTINATION_AIRPORT|SCHEDULED_DEPARTURE|DEPARTURE_TIME|DEPARTURE_DELAY|TAXI_OUT|WHEELS_OFF|SCHEDULED_TIME|ELAPSED_TIME|AIR_TIME|DISTANCE|WHEELS_ON|TAXI_IN|SCHEDULED_ARRIVAL|ARRIVAL_TIME|ARRIVAL_DELAY|DIVERTED|CANCELLED|CANCELLATION_REASON|AIR_SYSTEM_DELAY|SECURITY_DELAY|AIRLINE_DELAY|LATE_AIRCRAFT_DELAY|WEATHER_DELAY|      DATE|\n",
      "+-------+-------------+-----------+--------------+-------------------+-------------------+--------------+---------------+--------+----------+--------------+------------+--------+--------+---------+-------+-----------------+------------+-------------+--------+---------+-------------------+----------------+--------------+-------------+-------------------+-------------+----------+\n",
      "|     AS|           98|     N407AS|           ANC|                SEA|               NULL|         23:54|            -11|      21|        15|           205|         194|     169|    1448|      404|      4|              430|         408|          -22|       0|        0|               NULL|            NULL|          NULL|         NULL|               NULL|         NULL|2015-01-01|\n",
      "+-------+-------------+-----------+--------------+-------------------+-------------------+--------------+---------------+--------+----------+--------------+------------+--------+--------+---------+-------+-----------------+------------+-------------+--------+---------+-------------------+----------------+--------------+-------------+-------------------+-------------+----------+\n",
      "only showing top 1 row\n",
      "\n"
     ]
    }
   ],
   "source": []
  },
  {
   "cell_type": "code",
   "execution_count": null,
   "metadata": {},
   "outputs": [],
   "source": []
  },
  {
   "cell_type": "code",
   "execution_count": null,
   "metadata": {},
   "outputs": [],
   "source": []
  },
  {
   "cell_type": "code",
   "execution_count": null,
   "metadata": {},
   "outputs": [],
   "source": []
  }
 ],
 "metadata": {
  "kernelspec": {
   "display_name": "Python 3",
   "language": "python",
   "name": "python3"
  },
  "language_info": {
   "codemirror_mode": {
    "name": "ipython",
    "version": 3
   },
   "file_extension": ".py",
   "mimetype": "text/x-python",
   "name": "python",
   "nbconvert_exporter": "python",
   "pygments_lexer": "ipython3",
   "version": "3.10.11"
  }
 },
 "nbformat": 4,
 "nbformat_minor": 2
}
